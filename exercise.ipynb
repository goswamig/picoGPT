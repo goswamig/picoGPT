{
 "cells": [
  {
   "cell_type": "code",
   "execution_count": 1,
   "id": "59de59f7",
   "metadata": {},
   "outputs": [
    {
     "name": "stderr",
     "output_type": "stream",
     "text": [
      "2023-02-09 16:09:59.769133: I tensorflow/core/platform/cpu_feature_guard.cc:193] This TensorFlow binary is optimized with oneAPI Deep Neural Network Library (oneDNN) to use the following CPU instructions in performance-critical operations:  AVX2 FMA\n",
      "To enable them in other operations, rebuild TensorFlow with the appropriate compiler flags.\n",
      "/usr/local/lib/python3.9/site-packages/scipy/__init__.py:146: UserWarning: A NumPy version >=1.16.5 and <1.23.0 is required for this version of SciPy (detected version 1.24.1\n",
      "  warnings.warn(f\"A NumPy version >={np_minversion} and <{np_maxversion}\"\n",
      "Fetching checkpoint: 1.00kit [00:00, 312kit/s]                                                      \n",
      "Fetching encoder.json: 1.04Mit [00:00, 3.45Mit/s]                                                   \n",
      "Fetching hparams.json: 1.00kit [00:00, 639kit/s]                                                    \n",
      "Fetching model.ckpt.data-00000-of-00001: 498Mit [00:47, 10.5Mit/s]                                  \n",
      "Fetching model.ckpt.index: 6.00kit [00:00, 4.32Mit/s]                                               \n",
      "Fetching model.ckpt.meta: 472kit [00:00, 2.00Mit/s]                                                 \n",
      "Fetching vocab.bpe: 457kit [00:00, 2.19Mit/s]                                                       \n"
     ]
    }
   ],
   "source": [
    "from utils import load_encoder_hparams_and_params\n",
    "encoder, hparams, params = load_encoder_hparams_and_params(\"124M\", \"models\")\n"
   ]
  },
  {
   "cell_type": "code",
   "execution_count": 2,
   "id": "554d75b1",
   "metadata": {},
   "outputs": [],
   "source": [
    "ids = encoder.encode(\"Not all heroes wear capes.\")"
   ]
  },
  {
   "cell_type": "code",
   "execution_count": 3,
   "id": "a0b6867c",
   "metadata": {},
   "outputs": [
    {
     "data": {
      "text/plain": [
       "[3673, 477, 10281, 5806, 1451, 274, 13]"
      ]
     },
     "execution_count": 3,
     "metadata": {},
     "output_type": "execute_result"
    }
   ],
   "source": [
    "ids"
   ]
  },
  {
   "cell_type": "code",
   "execution_count": 5,
   "id": "3b2576ae",
   "metadata": {},
   "outputs": [
    {
     "data": {
      "text/plain": [
       "'Not all heroes wear capes.'"
      ]
     },
     "execution_count": 5,
     "metadata": {},
     "output_type": "execute_result"
    }
   ],
   "source": [
    "encoder.decode(ids)"
   ]
  },
  {
   "cell_type": "code",
   "execution_count": 6,
   "id": "2ded6e5a",
   "metadata": {},
   "outputs": [
    {
     "data": {
      "text/plain": [
       "['Not', 'Ġall', 'Ġheroes', 'Ġwear', 'Ġcap', 'es', '.']"
      ]
     },
     "execution_count": 6,
     "metadata": {},
     "output_type": "execute_result"
    }
   ],
   "source": [
    "[encoder.decoder[i] for i in ids]"
   ]
  },
  {
   "cell_type": "code",
   "execution_count": 7,
   "id": "a71e2a70",
   "metadata": {},
   "outputs": [
    {
     "data": {
      "text/plain": [
       "50257"
      ]
     },
     "execution_count": 7,
     "metadata": {},
     "output_type": "execute_result"
    }
   ],
   "source": [
    "len(encoder.decoder)"
   ]
  },
  {
   "cell_type": "code",
   "execution_count": 8,
   "id": "fdbf21d7",
   "metadata": {},
   "outputs": [
    {
     "data": {
      "text/plain": [
       "{'n_vocab': 50257, 'n_ctx': 1024, 'n_embd': 768, 'n_head': 12, 'n_layer': 12}"
      ]
     },
     "execution_count": 8,
     "metadata": {},
     "output_type": "execute_result"
    }
   ],
   "source": [
    "hparams"
   ]
  },
  {
   "cell_type": "code",
   "execution_count": 9,
   "id": "86fa7593",
   "metadata": {},
   "outputs": [],
   "source": [
    "params"
   ]
  },
  {
   "cell_type": "code",
   "execution_count": 11,
   "id": "83d74d4a",
   "metadata": {},
   "outputs": [],
   "source": [
    "import numpy as np\n"
   ]
  },
  {
   "cell_type": "code",
   "execution_count": 15,
   "id": "cceb773e",
   "metadata": {},
   "outputs": [],
   "source": [
    "def shape_tree(d):\n",
    "    if isinstance(d, np.ndarray):\n",
    "        return list(d.shape)\n",
    "    elif isinstance(d, list):\n",
    "        return [shape_tree(v) for v in d]\n",
    "    elif isinstance(d, dict):\n",
    "        return {k: shape_tree(v) for k, v in d.items()}\n",
    "    else:\n",
    "        ValueError(\"oh no\")\n",
    "    "
   ]
  },
  {
   "cell_type": "code",
   "execution_count": 16,
   "id": "264d8c20",
   "metadata": {},
   "outputs": [
    {
     "name": "stdout",
     "output_type": "stream",
     "text": [
      "{'blocks': [{'attn': {'c_attn': {'b': [2304], 'w': [768, 2304]}, 'c_proj': {'b': [768], 'w': [768, 768]}}, 'ln_1': {'b': [768], 'g': [768]}, 'ln_2': {'b': [768], 'g': [768]}, 'mlp': {'c_fc': {'b': [3072], 'w': [768, 3072]}, 'c_proj': {'b': [768], 'w': [3072, 768]}}}, {'attn': {'c_attn': {'b': [2304], 'w': [768, 2304]}, 'c_proj': {'b': [768], 'w': [768, 768]}}, 'ln_1': {'b': [768], 'g': [768]}, 'ln_2': {'b': [768], 'g': [768]}, 'mlp': {'c_fc': {'b': [3072], 'w': [768, 3072]}, 'c_proj': {'b': [768], 'w': [3072, 768]}}}, {'attn': {'c_attn': {'b': [2304], 'w': [768, 2304]}, 'c_proj': {'b': [768], 'w': [768, 768]}}, 'ln_1': {'b': [768], 'g': [768]}, 'ln_2': {'b': [768], 'g': [768]}, 'mlp': {'c_fc': {'b': [3072], 'w': [768, 3072]}, 'c_proj': {'b': [768], 'w': [3072, 768]}}}, {'attn': {'c_attn': {'b': [2304], 'w': [768, 2304]}, 'c_proj': {'b': [768], 'w': [768, 768]}}, 'ln_1': {'b': [768], 'g': [768]}, 'ln_2': {'b': [768], 'g': [768]}, 'mlp': {'c_fc': {'b': [3072], 'w': [768, 3072]}, 'c_proj': {'b': [768], 'w': [3072, 768]}}}, {'attn': {'c_attn': {'b': [2304], 'w': [768, 2304]}, 'c_proj': {'b': [768], 'w': [768, 768]}}, 'ln_1': {'b': [768], 'g': [768]}, 'ln_2': {'b': [768], 'g': [768]}, 'mlp': {'c_fc': {'b': [3072], 'w': [768, 3072]}, 'c_proj': {'b': [768], 'w': [3072, 768]}}}, {'attn': {'c_attn': {'b': [2304], 'w': [768, 2304]}, 'c_proj': {'b': [768], 'w': [768, 768]}}, 'ln_1': {'b': [768], 'g': [768]}, 'ln_2': {'b': [768], 'g': [768]}, 'mlp': {'c_fc': {'b': [3072], 'w': [768, 3072]}, 'c_proj': {'b': [768], 'w': [3072, 768]}}}, {'attn': {'c_attn': {'b': [2304], 'w': [768, 2304]}, 'c_proj': {'b': [768], 'w': [768, 768]}}, 'ln_1': {'b': [768], 'g': [768]}, 'ln_2': {'b': [768], 'g': [768]}, 'mlp': {'c_fc': {'b': [3072], 'w': [768, 3072]}, 'c_proj': {'b': [768], 'w': [3072, 768]}}}, {'attn': {'c_attn': {'b': [2304], 'w': [768, 2304]}, 'c_proj': {'b': [768], 'w': [768, 768]}}, 'ln_1': {'b': [768], 'g': [768]}, 'ln_2': {'b': [768], 'g': [768]}, 'mlp': {'c_fc': {'b': [3072], 'w': [768, 3072]}, 'c_proj': {'b': [768], 'w': [3072, 768]}}}, {'attn': {'c_attn': {'b': [2304], 'w': [768, 2304]}, 'c_proj': {'b': [768], 'w': [768, 768]}}, 'ln_1': {'b': [768], 'g': [768]}, 'ln_2': {'b': [768], 'g': [768]}, 'mlp': {'c_fc': {'b': [3072], 'w': [768, 3072]}, 'c_proj': {'b': [768], 'w': [3072, 768]}}}, {'attn': {'c_attn': {'b': [2304], 'w': [768, 2304]}, 'c_proj': {'b': [768], 'w': [768, 768]}}, 'ln_1': {'b': [768], 'g': [768]}, 'ln_2': {'b': [768], 'g': [768]}, 'mlp': {'c_fc': {'b': [3072], 'w': [768, 3072]}, 'c_proj': {'b': [768], 'w': [3072, 768]}}}, {'attn': {'c_attn': {'b': [2304], 'w': [768, 2304]}, 'c_proj': {'b': [768], 'w': [768, 768]}}, 'ln_1': {'b': [768], 'g': [768]}, 'ln_2': {'b': [768], 'g': [768]}, 'mlp': {'c_fc': {'b': [3072], 'w': [768, 3072]}, 'c_proj': {'b': [768], 'w': [3072, 768]}}}, {'attn': {'c_attn': {'b': [2304], 'w': [768, 2304]}, 'c_proj': {'b': [768], 'w': [768, 768]}}, 'ln_1': {'b': [768], 'g': [768]}, 'ln_2': {'b': [768], 'g': [768]}, 'mlp': {'c_fc': {'b': [3072], 'w': [768, 3072]}, 'c_proj': {'b': [768], 'w': [3072, 768]}}}], 'ln_f': {'b': [768], 'g': [768]}, 'wpe': [1024, 768], 'wte': [50257, 768]}\n"
     ]
    }
   ],
   "source": [
    "print(shape_tree(params))"
   ]
  },
  {
   "cell_type": "code",
   "execution_count": 78,
   "id": "2f97a6c5",
   "metadata": {},
   "outputs": [
    {
     "data": {
      "text/plain": [
       "{'blocks': [{'attn': {'c_attn': {'b': [2304], 'w': [768, 2304]},\n",
       "    'c_proj': {'b': [768], 'w': [768, 768]}},\n",
       "   'ln_1': {'b': [768], 'g': [768]},\n",
       "   'ln_2': {'b': [768], 'g': [768]},\n",
       "   'mlp': {'c_fc': {'b': [3072], 'w': [768, 3072]},\n",
       "    'c_proj': {'b': [768], 'w': [3072, 768]}}},\n",
       "  {'attn': {'c_attn': {'b': [2304], 'w': [768, 2304]},\n",
       "    'c_proj': {'b': [768], 'w': [768, 768]}},\n",
       "   'ln_1': {'b': [768], 'g': [768]},\n",
       "   'ln_2': {'b': [768], 'g': [768]},\n",
       "   'mlp': {'c_fc': {'b': [3072], 'w': [768, 3072]},\n",
       "    'c_proj': {'b': [768], 'w': [3072, 768]}}},\n",
       "  {'attn': {'c_attn': {'b': [2304], 'w': [768, 2304]},\n",
       "    'c_proj': {'b': [768], 'w': [768, 768]}},\n",
       "   'ln_1': {'b': [768], 'g': [768]},\n",
       "   'ln_2': {'b': [768], 'g': [768]},\n",
       "   'mlp': {'c_fc': {'b': [3072], 'w': [768, 3072]},\n",
       "    'c_proj': {'b': [768], 'w': [3072, 768]}}},\n",
       "  {'attn': {'c_attn': {'b': [2304], 'w': [768, 2304]},\n",
       "    'c_proj': {'b': [768], 'w': [768, 768]}},\n",
       "   'ln_1': {'b': [768], 'g': [768]},\n",
       "   'ln_2': {'b': [768], 'g': [768]},\n",
       "   'mlp': {'c_fc': {'b': [3072], 'w': [768, 3072]},\n",
       "    'c_proj': {'b': [768], 'w': [3072, 768]}}},\n",
       "  {'attn': {'c_attn': {'b': [2304], 'w': [768, 2304]},\n",
       "    'c_proj': {'b': [768], 'w': [768, 768]}},\n",
       "   'ln_1': {'b': [768], 'g': [768]},\n",
       "   'ln_2': {'b': [768], 'g': [768]},\n",
       "   'mlp': {'c_fc': {'b': [3072], 'w': [768, 3072]},\n",
       "    'c_proj': {'b': [768], 'w': [3072, 768]}}},\n",
       "  {'attn': {'c_attn': {'b': [2304], 'w': [768, 2304]},\n",
       "    'c_proj': {'b': [768], 'w': [768, 768]}},\n",
       "   'ln_1': {'b': [768], 'g': [768]},\n",
       "   'ln_2': {'b': [768], 'g': [768]},\n",
       "   'mlp': {'c_fc': {'b': [3072], 'w': [768, 3072]},\n",
       "    'c_proj': {'b': [768], 'w': [3072, 768]}}},\n",
       "  {'attn': {'c_attn': {'b': [2304], 'w': [768, 2304]},\n",
       "    'c_proj': {'b': [768], 'w': [768, 768]}},\n",
       "   'ln_1': {'b': [768], 'g': [768]},\n",
       "   'ln_2': {'b': [768], 'g': [768]},\n",
       "   'mlp': {'c_fc': {'b': [3072], 'w': [768, 3072]},\n",
       "    'c_proj': {'b': [768], 'w': [3072, 768]}}},\n",
       "  {'attn': {'c_attn': {'b': [2304], 'w': [768, 2304]},\n",
       "    'c_proj': {'b': [768], 'w': [768, 768]}},\n",
       "   'ln_1': {'b': [768], 'g': [768]},\n",
       "   'ln_2': {'b': [768], 'g': [768]},\n",
       "   'mlp': {'c_fc': {'b': [3072], 'w': [768, 3072]},\n",
       "    'c_proj': {'b': [768], 'w': [3072, 768]}}},\n",
       "  {'attn': {'c_attn': {'b': [2304], 'w': [768, 2304]},\n",
       "    'c_proj': {'b': [768], 'w': [768, 768]}},\n",
       "   'ln_1': {'b': [768], 'g': [768]},\n",
       "   'ln_2': {'b': [768], 'g': [768]},\n",
       "   'mlp': {'c_fc': {'b': [3072], 'w': [768, 3072]},\n",
       "    'c_proj': {'b': [768], 'w': [3072, 768]}}},\n",
       "  {'attn': {'c_attn': {'b': [2304], 'w': [768, 2304]},\n",
       "    'c_proj': {'b': [768], 'w': [768, 768]}},\n",
       "   'ln_1': {'b': [768], 'g': [768]},\n",
       "   'ln_2': {'b': [768], 'g': [768]},\n",
       "   'mlp': {'c_fc': {'b': [3072], 'w': [768, 3072]},\n",
       "    'c_proj': {'b': [768], 'w': [3072, 768]}}},\n",
       "  {'attn': {'c_attn': {'b': [2304], 'w': [768, 2304]},\n",
       "    'c_proj': {'b': [768], 'w': [768, 768]}},\n",
       "   'ln_1': {'b': [768], 'g': [768]},\n",
       "   'ln_2': {'b': [768], 'g': [768]},\n",
       "   'mlp': {'c_fc': {'b': [3072], 'w': [768, 3072]},\n",
       "    'c_proj': {'b': [768], 'w': [3072, 768]}}},\n",
       "  {'attn': {'c_attn': {'b': [2304], 'w': [768, 2304]},\n",
       "    'c_proj': {'b': [768], 'w': [768, 768]}},\n",
       "   'ln_1': {'b': [768], 'g': [768]},\n",
       "   'ln_2': {'b': [768], 'g': [768]},\n",
       "   'mlp': {'c_fc': {'b': [3072], 'w': [768, 3072]},\n",
       "    'c_proj': {'b': [768], 'w': [3072, 768]}}}],\n",
       " 'ln_f': {'b': [768], 'g': [768]},\n",
       " 'wpe': [1024, 768],\n",
       " 'wte': [50257, 768]}"
      ]
     },
     "execution_count": 78,
     "metadata": {},
     "output_type": "execute_result"
    }
   ],
   "source": [
    "shape_tree(params)"
   ]
  },
  {
   "cell_type": "code",
   "execution_count": 106,
   "id": "bce8b552",
   "metadata": {},
   "outputs": [
    {
     "ename": "SyntaxError",
     "evalue": "invalid syntax (2147913248.py, line 1)",
     "output_type": "error",
     "traceback": [
      "\u001b[0;36m  Cell \u001b[0;32mIn[106], line 1\u001b[0;36m\u001b[0m\n\u001b[0;31m    blocks': [{'attn': {'c_attn': {'b': [2304], 'w': [768, 2304]},\u001b[0m\n\u001b[0m          ^\u001b[0m\n\u001b[0;31mSyntaxError\u001b[0m\u001b[0;31m:\u001b[0m invalid syntax\n"
     ]
    }
   ],
   "source": [
    "blocks': [{'attn': {'c_attn': {'b': [2304], 'w': [768, 2304]},\n",
    "    'c_proj': {'b': [768], 'w': [768, 768]}},\n",
    "   'ln_1': {'b': [768], 'g': [768]},\n",
    "   'ln_2': {'b': [768], 'g': [768]},\n",
    "   'mlp': {'c_fc': {'b': [3072], 'w': [768, 3072]},\n",
    "    'c_proj': {'b': [768], 'w': [3072, 768]}}},\n",
    "  {'attn': {'c_attn': {'b': [2304], 'w': [768, 2304]},\n",
    "    'c_proj': {'b': [768], 'w': [768, 768]}},\n",
    "   'ln_1': {'b': [768], 'g': [768]},\n",
    "   'ln_2': {'b': [768], 'g': [768]},\n",
    "   'mlp': {'c_fc': {'b': [3072], 'w': [768, 3072]},\n",
    "    'c_proj': {'b': [768], 'w': [3072, 768]}}},\n",
    "  {'attn': {'c_attn': {'b': [2304], 'w': [768, 2304]},\n",
    "    'c_proj': {'b': [768], 'w': [768, 768]}},\n",
    "   'ln_1': {'b': [768], 'g': [768]},\n",
    "   'ln_2': {'b': [768], 'g': [768]},\n",
    "   'mlp': {'c_fc': {'b': [3072], 'w': [768, 3072]},\n",
    "    'c_proj': {'b': [768], 'w': [3072, 768]}}},\n",
    "  {'attn': {'c_attn': {'b': [2304], 'w': [768, 2304]},\n",
    "    'c_proj': {'b': [768], 'w': [768, 768]}},\n",
    "   'ln_1': {'b': [768], 'g': [768]},\n",
    "   'ln_2': {'b': [768], 'g': [768]},\n",
    "   'mlp': {'c_fc': {'b': [3072], 'w': [768, 3072]},\n",
    "    'c_proj': {'b': [768], 'w': [3072, 768]}}},\n",
    "  {'attn': {'c_attn': {'b': [2304], 'w': [768, 2304]},\n",
    "    'c_proj': {'b': [768], 'w': [768, 768]}},\n",
    "   'ln_1': {'b': [768], 'g': [768]},\n",
    "   'ln_2': {'b': [768], 'g': [768]},\n",
    "   'mlp': {'c_fc': {'b': [3072], 'w': [768, 3072]},\n",
    "    'c_proj': {'b': [768], 'w': [3072, 768]}}},\n",
    "  {'attn': {'c_attn': {'b': [2304], 'w': [768, 2304]},\n",
    "    'c_proj': {'b': [768], 'w': [768, 768]}},\n",
    "   'ln_1': {'b': [768], 'g': [768]},\n",
    "   'ln_2': {'b': [768], 'g': [768]},\n",
    "   'mlp': {'c_fc': {'b': [3072], 'w': [768, 3072]},\n",
    "    'c_proj': {'b': [768], 'w': [3072, 768]}}},\n",
    "  {'attn': {'c_attn': {'b': [2304], 'w': [768, 2304]},\n",
    "    'c_proj': {'b': [768], 'w': [768, 768]}},\n",
    "   'ln_1': {'b': [768], 'g': [768]},\n",
    "   'ln_2': {'b': [768], 'g': [768]},\n",
    "   'mlp': {'c_fc': {'b': [3072], 'w': [768, 3072]},\n",
    "    'c_proj': {'b': [768], 'w': [3072, 768]}}},\n",
    "  {'attn': {'c_attn': {'b': [2304], 'w': [768, 2304]},\n",
    "    'c_proj': {'b': [768], 'w': [768, 768]}},\n",
    "   'ln_1': {'b': [768], 'g': [768]},\n",
    "   'ln_2': {'b': [768], 'g': [768]},\n",
    "   'mlp': {'c_fc': {'b': [3072], 'w': [768, 3072]},\n",
    "    'c_proj': {'b': [768], 'w': [3072, 768]}}},\n",
    "  {'attn': {'c_attn': {'b': [2304], 'w': [768, 2304]},\n",
    "    'c_proj': {'b': [768], 'w': [768, 768]}},\n",
    "   'ln_1': {'b': [768], 'g': [768]},\n",
    "   'ln_2': {'b': [768], 'g': [768]},\n",
    "   'mlp': {'c_fc': {'b': [3072], 'w': [768, 3072]},\n",
    "    'c_proj': {'b': [768], 'w': [3072, 768]}}},\n",
    "  {'attn': {'c_attn': {'b': [2304], 'w': [768, 2304]},\n",
    "    'c_proj': {'b': [768], 'w': [768, 768]}},\n",
    "   'ln_1': {'b': [768], 'g': [768]},\n",
    "   'ln_2': {'b': [768], 'g': [768]},\n",
    "   'mlp': {'c_fc': {'b': [3072], 'w': [768, 3072]},\n",
    "    'c_proj': {'b': [768], 'w': [3072, 768]}}},\n",
    "  {'attn': {'c_attn': {'b': [2304], 'w': [768, 2304]},\n",
    "    'c_proj': {'b': [768], 'w': [768, 768]}},\n",
    "   'ln_1': {'b': [768], 'g': [768]},\n",
    "   'ln_2': {'b': [768], 'g': [768]},\n",
    "   'mlp': {'c_fc': {'b': [3072], 'w': [768, 3072]},\n",
    "    'c_proj': {'b': [768], 'w': [3072, 768]}}},\n",
    "  {'attn': {'c_attn': {'b': [2304], 'w': [768, 2304]},\n",
    "    'c_proj': {'b': [768], 'w': [768, 768]}},\n",
    "   'ln_1': {'b': [768], 'g': [768]},\n",
    "   'ln_2': {'b': [768], 'g': [768]},\n",
    "   'mlp': {'c_fc': {'b': [3072], 'w': [768, 3072]},\n",
    "    'c_proj': {'b': [768], 'w': [3072, 768]}}}],\n",
    " 'ln_f': {'b': [768], 'g': [768]},\n",
    " 'wpe': [1024, 768],\n",
    " 'wte': [50257, 768]"
   ]
  },
  {
   "cell_type": "code",
   "execution_count": 79,
   "id": "d99759c5",
   "metadata": {},
   "outputs": [],
   "source": [
    "import tensorflow as tf"
   ]
  },
  {
   "cell_type": "code",
   "execution_count": 80,
   "id": "41bbe48b",
   "metadata": {},
   "outputs": [],
   "source": [
    "tf_ckpt_path = tf.train.latest_checkpoint(\"models/124M\")"
   ]
  },
  {
   "cell_type": "code",
   "execution_count": 81,
   "id": "ad733f27",
   "metadata": {},
   "outputs": [
    {
     "name": "stdout",
     "output_type": "stream",
     "text": [
      "model/h0/attn/c_attn/b: (2304,)\n",
      "model/h0/attn/c_attn/w: (768, 2304)\n",
      "model/h0/attn/c_proj/b: (768,)\n",
      "model/h0/attn/c_proj/w: (768, 768)\n",
      "model/h0/ln_1/b: (768,)\n",
      "model/h0/ln_1/g: (768,)\n",
      "model/h0/ln_2/b: (768,)\n",
      "model/h0/ln_2/g: (768,)\n",
      "model/h0/mlp/c_fc/b: (3072,)\n",
      "model/h0/mlp/c_fc/w: (768, 3072)\n",
      "model/h0/mlp/c_proj/b: (768,)\n",
      "model/h0/mlp/c_proj/w: (3072, 768)\n",
      "model/h1/attn/c_attn/b: (2304,)\n",
      "model/h1/attn/c_attn/w: (768, 2304)\n",
      "model/h1/attn/c_proj/b: (768,)\n",
      "model/h1/attn/c_proj/w: (768, 768)\n",
      "model/h1/ln_1/b: (768,)\n",
      "model/h1/ln_1/g: (768,)\n",
      "model/h1/ln_2/b: (768,)\n",
      "model/h1/ln_2/g: (768,)\n",
      "model/h1/mlp/c_fc/b: (3072,)\n",
      "model/h1/mlp/c_fc/w: (768, 3072)\n",
      "model/h1/mlp/c_proj/b: (768,)\n",
      "model/h1/mlp/c_proj/w: (3072, 768)\n",
      "model/h10/attn/c_attn/b: (2304,)\n",
      "model/h10/attn/c_attn/w: (768, 2304)\n",
      "model/h10/attn/c_proj/b: (768,)\n",
      "model/h10/attn/c_proj/w: (768, 768)\n",
      "model/h10/ln_1/b: (768,)\n",
      "model/h10/ln_1/g: (768,)\n",
      "model/h10/ln_2/b: (768,)\n",
      "model/h10/ln_2/g: (768,)\n",
      "model/h10/mlp/c_fc/b: (3072,)\n",
      "model/h10/mlp/c_fc/w: (768, 3072)\n",
      "model/h10/mlp/c_proj/b: (768,)\n",
      "model/h10/mlp/c_proj/w: (3072, 768)\n",
      "model/h11/attn/c_attn/b: (2304,)\n",
      "model/h11/attn/c_attn/w: (768, 2304)\n",
      "model/h11/attn/c_proj/b: (768,)\n",
      "model/h11/attn/c_proj/w: (768, 768)\n",
      "model/h11/ln_1/b: (768,)\n",
      "model/h11/ln_1/g: (768,)\n",
      "model/h11/ln_2/b: (768,)\n",
      "model/h11/ln_2/g: (768,)\n",
      "model/h11/mlp/c_fc/b: (3072,)\n",
      "model/h11/mlp/c_fc/w: (768, 3072)\n",
      "model/h11/mlp/c_proj/b: (768,)\n",
      "model/h11/mlp/c_proj/w: (3072, 768)\n",
      "model/h2/attn/c_attn/b: (2304,)\n",
      "model/h2/attn/c_attn/w: (768, 2304)\n",
      "model/h2/attn/c_proj/b: (768,)\n",
      "model/h2/attn/c_proj/w: (768, 768)\n",
      "model/h2/ln_1/b: (768,)\n",
      "model/h2/ln_1/g: (768,)\n",
      "model/h2/ln_2/b: (768,)\n",
      "model/h2/ln_2/g: (768,)\n",
      "model/h2/mlp/c_fc/b: (3072,)\n",
      "model/h2/mlp/c_fc/w: (768, 3072)\n",
      "model/h2/mlp/c_proj/b: (768,)\n",
      "model/h2/mlp/c_proj/w: (3072, 768)\n",
      "model/h3/attn/c_attn/b: (2304,)\n",
      "model/h3/attn/c_attn/w: (768, 2304)\n",
      "model/h3/attn/c_proj/b: (768,)\n",
      "model/h3/attn/c_proj/w: (768, 768)\n",
      "model/h3/ln_1/b: (768,)\n",
      "model/h3/ln_1/g: (768,)\n",
      "model/h3/ln_2/b: (768,)\n",
      "model/h3/ln_2/g: (768,)\n",
      "model/h3/mlp/c_fc/b: (3072,)\n",
      "model/h3/mlp/c_fc/w: (768, 3072)\n",
      "model/h3/mlp/c_proj/b: (768,)\n",
      "model/h3/mlp/c_proj/w: (3072, 768)\n",
      "model/h4/attn/c_attn/b: (2304,)\n",
      "model/h4/attn/c_attn/w: (768, 2304)\n",
      "model/h4/attn/c_proj/b: (768,)\n",
      "model/h4/attn/c_proj/w: (768, 768)\n",
      "model/h4/ln_1/b: (768,)\n",
      "model/h4/ln_1/g: (768,)\n",
      "model/h4/ln_2/b: (768,)\n",
      "model/h4/ln_2/g: (768,)\n",
      "model/h4/mlp/c_fc/b: (3072,)\n",
      "model/h4/mlp/c_fc/w: (768, 3072)\n",
      "model/h4/mlp/c_proj/b: (768,)\n",
      "model/h4/mlp/c_proj/w: (3072, 768)\n",
      "model/h5/attn/c_attn/b: (2304,)\n",
      "model/h5/attn/c_attn/w: (768, 2304)\n",
      "model/h5/attn/c_proj/b: (768,)\n",
      "model/h5/attn/c_proj/w: (768, 768)\n",
      "model/h5/ln_1/b: (768,)\n",
      "model/h5/ln_1/g: (768,)\n",
      "model/h5/ln_2/b: (768,)\n",
      "model/h5/ln_2/g: (768,)\n",
      "model/h5/mlp/c_fc/b: (3072,)\n",
      "model/h5/mlp/c_fc/w: (768, 3072)\n",
      "model/h5/mlp/c_proj/b: (768,)\n",
      "model/h5/mlp/c_proj/w: (3072, 768)\n",
      "model/h6/attn/c_attn/b: (2304,)\n",
      "model/h6/attn/c_attn/w: (768, 2304)\n",
      "model/h6/attn/c_proj/b: (768,)\n",
      "model/h6/attn/c_proj/w: (768, 768)\n",
      "model/h6/ln_1/b: (768,)\n",
      "model/h6/ln_1/g: (768,)\n",
      "model/h6/ln_2/b: (768,)\n",
      "model/h6/ln_2/g: (768,)\n",
      "model/h6/mlp/c_fc/b: (3072,)\n",
      "model/h6/mlp/c_fc/w: (768, 3072)\n",
      "model/h6/mlp/c_proj/b: (768,)\n",
      "model/h6/mlp/c_proj/w: (3072, 768)\n",
      "model/h7/attn/c_attn/b: (2304,)\n",
      "model/h7/attn/c_attn/w: (768, 2304)\n",
      "model/h7/attn/c_proj/b: (768,)\n",
      "model/h7/attn/c_proj/w: (768, 768)\n",
      "model/h7/ln_1/b: (768,)\n",
      "model/h7/ln_1/g: (768,)\n",
      "model/h7/ln_2/b: (768,)\n",
      "model/h7/ln_2/g: (768,)\n",
      "model/h7/mlp/c_fc/b: (3072,)\n",
      "model/h7/mlp/c_fc/w: (768, 3072)\n",
      "model/h7/mlp/c_proj/b: (768,)\n",
      "model/h7/mlp/c_proj/w: (3072, 768)\n",
      "model/h8/attn/c_attn/b: (2304,)\n",
      "model/h8/attn/c_attn/w: (768, 2304)\n",
      "model/h8/attn/c_proj/b: (768,)\n",
      "model/h8/attn/c_proj/w: (768, 768)\n",
      "model/h8/ln_1/b: (768,)\n",
      "model/h8/ln_1/g: (768,)\n",
      "model/h8/ln_2/b: (768,)\n",
      "model/h8/ln_2/g: (768,)\n",
      "model/h8/mlp/c_fc/b: (3072,)\n",
      "model/h8/mlp/c_fc/w: (768, 3072)\n",
      "model/h8/mlp/c_proj/b: (768,)\n",
      "model/h8/mlp/c_proj/w: (3072, 768)\n",
      "model/h9/attn/c_attn/b: (2304,)\n",
      "model/h9/attn/c_attn/w: (768, 2304)\n",
      "model/h9/attn/c_proj/b: (768,)\n",
      "model/h9/attn/c_proj/w: (768, 768)\n",
      "model/h9/ln_1/b: (768,)\n",
      "model/h9/ln_1/g: (768,)\n",
      "model/h9/ln_2/b: (768,)\n",
      "model/h9/ln_2/g: (768,)\n",
      "model/h9/mlp/c_fc/b: (3072,)\n",
      "model/h9/mlp/c_fc/w: (768, 3072)\n",
      "model/h9/mlp/c_proj/b: (768,)\n",
      "model/h9/mlp/c_proj/w: (3072, 768)\n",
      "model/ln_f/b: (768,)\n",
      "model/ln_f/g: (768,)\n",
      "model/wpe: (1024, 768)\n",
      "model/wte: (50257, 768)\n"
     ]
    }
   ],
   "source": [
    "for name, _ in tf.train.list_variables(tf_ckpt_path):\n",
    "    arr = tf.train.load_variable(tf_ckpt_path, name).squeeze()\n",
    "    print(f\"{name}: {arr.shape}\")\n",
    "    "
   ]
  },
  {
   "cell_type": "code",
   "execution_count": 82,
   "id": "7c30bc0c",
   "metadata": {},
   "outputs": [],
   "source": [
    "def gelu(x):\n",
    "    return 0.5 * x * (1 + np.tanh(np.sqrt(2 / np.pi) * (x + 0.044715 * x**3)))"
   ]
  },
  {
   "cell_type": "code",
   "execution_count": 83,
   "id": "213d9b14",
   "metadata": {},
   "outputs": [
    {
     "data": {
      "text/plain": [
       "array([[ 8.41191991e-01,  1.95459769e+00],\n",
       "       [-7.02459482e-05,  0.00000000e+00]])"
      ]
     },
     "execution_count": 83,
     "metadata": {},
     "output_type": "execute_result"
    }
   ],
   "source": [
    "gelu(np.array([[1, 2], [-4, 0]]))"
   ]
  },
  {
   "cell_type": "code",
   "execution_count": 84,
   "id": "b9576069",
   "metadata": {},
   "outputs": [],
   "source": [
    "def softmax(x):\n",
    "    exp_x = np.exp(x - np.max(x, axis=-1, keepdims=True))\n",
    "    return exp_x / np.sum(exp_x, axis=-1, keepdims=True)"
   ]
  },
  {
   "cell_type": "code",
   "execution_count": 85,
   "id": "faba6adb",
   "metadata": {},
   "outputs": [],
   "source": [
    "x = softmax(np.array([[2, 100], [-5, 0]]))"
   ]
  },
  {
   "cell_type": "code",
   "execution_count": 86,
   "id": "82692a57",
   "metadata": {},
   "outputs": [
    {
     "data": {
      "text/plain": [
       "array([[2.74878501e-43, 1.00000000e+00],\n",
       "       [6.69285092e-03, 9.93307149e-01]])"
      ]
     },
     "execution_count": 86,
     "metadata": {},
     "output_type": "execute_result"
    }
   ],
   "source": [
    "x"
   ]
  },
  {
   "cell_type": "code",
   "execution_count": 87,
   "id": "2699606a",
   "metadata": {},
   "outputs": [
    {
     "data": {
      "text/plain": [
       "array([1., 1.])"
      ]
     },
     "execution_count": 87,
     "metadata": {},
     "output_type": "execute_result"
    }
   ],
   "source": [
    "x.sum(axis=-1)"
   ]
  },
  {
   "cell_type": "code",
   "execution_count": 88,
   "id": "7bed5698",
   "metadata": {},
   "outputs": [],
   "source": [
    "def layer_norm(x, g, b, eps: float = 1e-5):\n",
    "    mean = np.mean(x, axis=-1, keepdims=True)\n",
    "    variance = np.var(x, axis=-1, keepdims=True)\n",
    "    x = (x - mean) / np.sqrt(variance + eps)  # normalize x to have mean=0 and var=1 over last axis\n",
    "    return g * x + b  # scale and offset with gamma/beta params"
   ]
  },
  {
   "cell_type": "code",
   "execution_count": 89,
   "id": "a8428004",
   "metadata": {},
   "outputs": [],
   "source": [
    "x = np.array([[2, 2, 3], [-5, 0, 1]])"
   ]
  },
  {
   "cell_type": "code",
   "execution_count": 90,
   "id": "62defe88",
   "metadata": {},
   "outputs": [
    {
     "data": {
      "text/plain": [
       "3"
      ]
     },
     "execution_count": 90,
     "metadata": {},
     "output_type": "execute_result"
    }
   ],
   "source": [
    "x.shape[-1]"
   ]
  },
  {
   "cell_type": "code",
   "execution_count": 91,
   "id": "77f9fee3",
   "metadata": {},
   "outputs": [
    {
     "data": {
      "text/plain": [
       "array([1., 1., 1.])"
      ]
     },
     "execution_count": 91,
     "metadata": {},
     "output_type": "execute_result"
    }
   ],
   "source": [
    "np.ones(x.shape[-1])"
   ]
  },
  {
   "cell_type": "code",
   "execution_count": 92,
   "id": "6e94fa8f",
   "metadata": {},
   "outputs": [
    {
     "data": {
      "text/plain": [
       "array([0., 0., 0.])"
      ]
     },
     "execution_count": 92,
     "metadata": {},
     "output_type": "execute_result"
    }
   ],
   "source": [
    "np.zeros(x.shape[-1])"
   ]
  },
  {
   "cell_type": "code",
   "execution_count": 93,
   "id": "4aca03af",
   "metadata": {},
   "outputs": [],
   "source": [
    "x = layer_norm(x, g=np.ones(x.shape[-1]), b=np.zeros(x.shape[-1]))"
   ]
  },
  {
   "cell_type": "code",
   "execution_count": 94,
   "id": "d2045430",
   "metadata": {},
   "outputs": [
    {
     "data": {
      "text/plain": [
       "array([[-0.70709087, -0.70709087,  1.41418174],\n",
       "       [-1.39700038,  0.50800014,  0.88900024]])"
      ]
     },
     "execution_count": 94,
     "metadata": {},
     "output_type": "execute_result"
    }
   ],
   "source": [
    "x"
   ]
  },
  {
   "cell_type": "code",
   "execution_count": 95,
   "id": "4ef96484",
   "metadata": {},
   "outputs": [
    {
     "data": {
      "text/plain": [
       "array([0.999955  , 0.99999855])"
      ]
     },
     "execution_count": 95,
     "metadata": {},
     "output_type": "execute_result"
    }
   ],
   "source": [
    "x.var(axis=-1)"
   ]
  },
  {
   "cell_type": "code",
   "execution_count": 96,
   "id": "6a9bec0e",
   "metadata": {},
   "outputs": [
    {
     "data": {
      "text/plain": [
       "array([-2.96059473e-16, -3.70074342e-17])"
      ]
     },
     "execution_count": 96,
     "metadata": {},
     "output_type": "execute_result"
    }
   ],
   "source": [
    "x.mean(axis=-1)"
   ]
  },
  {
   "cell_type": "code",
   "execution_count": 97,
   "id": "81d553ad",
   "metadata": {},
   "outputs": [],
   "source": [
    "def linear(x, w, b):  # [m, in], [in, out], [out] -> [m, out]\n",
    "    return x @ w + b"
   ]
  },
  {
   "cell_type": "code",
   "execution_count": 98,
   "id": "52d45fe4",
   "metadata": {},
   "outputs": [],
   "source": [
    "x = np.random.normal(size=(64, 784)) "
   ]
  },
  {
   "cell_type": "code",
   "execution_count": 99,
   "id": "4faf9f7b",
   "metadata": {},
   "outputs": [],
   "source": [
    "w = np.random.normal(size=(784, 10)) # output dim = 10\n",
    "b = np.random.normal(size=(10,))\n"
   ]
  },
  {
   "cell_type": "code",
   "execution_count": 100,
   "id": "659faf22",
   "metadata": {},
   "outputs": [
    {
     "data": {
      "text/plain": [
       "(64, 784)"
      ]
     },
     "execution_count": 100,
     "metadata": {},
     "output_type": "execute_result"
    }
   ],
   "source": [
    "x.shape\n"
   ]
  },
  {
   "cell_type": "code",
   "execution_count": 101,
   "id": "1e9c7547",
   "metadata": {},
   "outputs": [
    {
     "data": {
      "text/plain": [
       "(64, 10)"
      ]
     },
     "execution_count": 101,
     "metadata": {},
     "output_type": "execute_result"
    }
   ],
   "source": [
    "linear(x, w, b).shape"
   ]
  },
  {
   "cell_type": "code",
   "execution_count": 104,
   "id": "4a87e905",
   "metadata": {},
   "outputs": [],
   "source": [
    "def gpt2(inputs, wte, wpe, blocks, ln_f, n_head):  # [n_seq] -> [n_seq, n_vocab]\n",
    "    # token + positional embeddings\n",
    "    x = wte[inputs] + wpe[range(len(inputs))]  # [n_seq] -> [n_seq, n_embd]\n",
    "\n",
    "    # forward pass through n_layer transformer blocks\n",
    "    for block in blocks:\n",
    "        x = transformer_block(x, **block, n_head=n_head)  # [n_seq, n_embd] -> [n_seq, n_embd]\n",
    "\n",
    "    # projection to vocab\n",
    "    x = layer_norm(x, **ln_f)  # [n_seq, n_embd] -> [n_seq, n_embd]\n",
    "    return x @ wte.T  # [n_seq, n_embd] -> [n_seq, n_vocab]"
   ]
  },
  {
   "cell_type": "code",
   "execution_count": 105,
   "id": "3a54b20d",
   "metadata": {},
   "outputs": [
    {
     "ename": "NameError",
     "evalue": "name 'wte' is not defined",
     "output_type": "error",
     "traceback": [
      "\u001b[0;31m---------------------------------------------------------------------------\u001b[0m",
      "\u001b[0;31mNameError\u001b[0m                                 Traceback (most recent call last)",
      "Cell \u001b[0;32mIn[105], line 1\u001b[0m\n\u001b[0;32m----> 1\u001b[0m \u001b[43mwte\u001b[49m\u001b[38;5;241m.\u001b[39mshape\n",
      "\u001b[0;31mNameError\u001b[0m: name 'wte' is not defined"
     ]
    }
   ],
   "source": [
    "wte.shape\n"
   ]
  },
  {
   "cell_type": "code",
   "execution_count": 65,
   "id": "f509ae48",
   "metadata": {},
   "outputs": [
    {
     "ename": "NameError",
     "evalue": "name 'wte' is not defined",
     "output_type": "error",
     "traceback": [
      "\u001b[0;31m---------------------------------------------------------------------------\u001b[0m",
      "\u001b[0;31mNameError\u001b[0m                                 Traceback (most recent call last)",
      "Cell \u001b[0;32mIn[65], line 1\u001b[0m\n\u001b[0;32m----> 1\u001b[0m \u001b[43mwte\u001b[49m[inputs] \n",
      "\u001b[0;31mNameError\u001b[0m: name 'wte' is not defined"
     ]
    }
   ],
   "source": [
    "wte[inputs] "
   ]
  },
  {
   "cell_type": "code",
   "execution_count": 66,
   "id": "d0d6f300",
   "metadata": {},
   "outputs": [
    {
     "ename": "NameError",
     "evalue": "name 'wte' is not defined",
     "output_type": "error",
     "traceback": [
      "\u001b[0;31m---------------------------------------------------------------------------\u001b[0m",
      "\u001b[0;31mNameError\u001b[0m                                 Traceback (most recent call last)",
      "Cell \u001b[0;32mIn[66], line 1\u001b[0m\n\u001b[0;32m----> 1\u001b[0m x \u001b[38;5;241m=\u001b[39m \u001b[43mwte\u001b[49m[inputs] \u001b[38;5;241m+\u001b[39m wpe[\u001b[38;5;28mrange\u001b[39m(\u001b[38;5;28mlen\u001b[39m(inputs))]  \u001b[38;5;66;03m# [n_seq] -> [n_seq, n_embd]\u001b[39;00m\n",
      "\u001b[0;31mNameError\u001b[0m: name 'wte' is not defined"
     ]
    }
   ],
   "source": [
    "x = wte[inputs] + wpe[range(len(inputs))]  # [n_seq] -> [n_seq, n_embd]\n"
   ]
  },
  {
   "cell_type": "code",
   "execution_count": 67,
   "id": "302eb0e0",
   "metadata": {},
   "outputs": [],
   "source": [
    "def transformer_block(x, mlp, attn, ln_1, ln_2, n_head):  # [n_seq, n_embd] -> [n_seq, n_embd]\n",
    "    # multi-head casual self attention\n",
    "    x = x + mha(layer_norm(x, **ln_1), **attn, n_head=n_head)  # [n_seq, n_embd] -> [n_seq, n_embd]\n",
    "\n",
    "    # position-wise feed forward network\n",
    "    x = x + ffn(layer_norm(x, **ln_2), **mlp)  # [n_seq, n_embd] -> [n_seq, n_embd]\n",
    "\n",
    "    return x"
   ]
  },
  {
   "cell_type": "code",
   "execution_count": 68,
   "id": "36aa231b",
   "metadata": {},
   "outputs": [],
   "source": [
    "def ffn(x, c_fc, c_proj):  # [n_seq, n_embd] -> [n_seq, n_embd]\n",
    "    # project up\n",
    "    a = gelu(linear(x, **c_fc))  # [n_seq, n_embd] -> [n_seq, 4*n_embd]\n",
    "\n",
    "    # project back down\n",
    "    x = linear(a, **c_proj)  # [n_seq, 4*n_embd] -> [n_seq, n_embd]\n",
    "\n",
    "    return x"
   ]
  },
  {
   "cell_type": "code",
   "execution_count": 69,
   "id": "fd40158d",
   "metadata": {},
   "outputs": [],
   "source": [
    "def attention(q, k, v):  # [n_q, d_k], [n_k, d_k], [n_k, d_v] -> [n_q, d_v]\n",
    "    return softmax(q @ k.T / np.sqrt(q.shape[-1])) @ v"
   ]
  },
  {
   "cell_type": "code",
   "execution_count": 70,
   "id": "55d161b1",
   "metadata": {},
   "outputs": [],
   "source": [
    "def self_attention(x): # [n_seq, n_embd] -> [n_seq, n_embd]\n",
    "    return attention(q=x, k=x, v=x)"
   ]
  },
  {
   "cell_type": "code",
   "execution_count": 71,
   "id": "5f6ac103",
   "metadata": {},
   "outputs": [],
   "source": [
    "def self_attention(x, w_k, w_q, w_v, w_proj): # [n_seq, n_embd] -> [n_seq, n_embd]\n",
    "    # qkv projections\n",
    "    q = x @ w_k # [n_seq, n_embd] @ [n_embd, n_embd] -> [n_seq, n_embd]\n",
    "    k = x @ w_q # [n_seq, n_embd] @ [n_embd, n_embd] -> [n_seq, n_embd]\n",
    "    v = x @ w_v # [n_seq, n_embd] @ [n_embd, n_embd] -> [n_seq, n_embd]\n",
    "\n",
    "    # perform self attention\n",
    "    x = attention(q, k, v) # [n_seq, n_embd] -> [n_seq, n_embd]\n",
    "\n",
    "    # out projection\n",
    "    x = x @ w_proj # [n_seq, n_embd] @ [n_embd, n_embd] -> [n_seq, n_embd]\n",
    "\n",
    "    return x"
   ]
  },
  {
   "cell_type": "code",
   "execution_count": 72,
   "id": "ca472270",
   "metadata": {},
   "outputs": [],
   "source": [
    "def self_attention(x, w_fc, w_proj): # [n_seq, n_embd] -> [n_seq, n_embd]\n",
    "    # qkv projections\n",
    "    x = x @ w_fc # [n_seq, n_embd] @ [n_embd, 3*n_embd] -> [n_seq, 3*n_embd]\n",
    "\n",
    "    # split into qkv\n",
    "    q, k, v = qkv = np.split(x, 3, axis=-1) # [n_seq, 3*n_embd] -> 3 of [n_seq, n_embd]\n",
    "\n",
    "    # perform self attention\n",
    "    x = attention(q, k, v) # [n_seq, n_embd] -> [n_seq, n_embd]\n",
    "\n",
    "    # out projection\n",
    "    x = x @ w_proj # [n_seq, n_embd] @ [n_embd, n_embd] = [n_seq, n_embd]\n",
    "\n",
    "    return x"
   ]
  },
  {
   "cell_type": "code",
   "execution_count": 73,
   "id": "2fc282e4",
   "metadata": {},
   "outputs": [],
   "source": [
    "def self_attention(x, c_attn, c_proj): # [n_seq, n_embd] -> [n_seq, n_embd]\n",
    "    # qkv projections\n",
    "    x = linear(x, **c_attn) # [n_seq, n_embd] -> [n_seq, 3*n_embd]\n",
    "\n",
    "    # split into qkv\n",
    "    q, k, v = qkv = np.split(x, 3, axis=-1) # [n_seq, 3*n_embd] -> 3 of [n_seq, n_embd]\n",
    "\n",
    "    # perform self attention\n",
    "    x = attention(q, k, v) # [n_seq, n_embd] -> [n_seq, n_embd]\n",
    "\n",
    "    # out projection\n",
    "    x = linear(x, **c_proj) # [n_seq, n_embd] @ [n_embd, n_embd] = [n_seq, n_embd]\n",
    "\n",
    "    return x"
   ]
  },
  {
   "cell_type": "code",
   "execution_count": 74,
   "id": "062e60aa",
   "metadata": {},
   "outputs": [],
   "source": [
    "def attention(q, k, v, mask):  # [n_q, d_k], [n_k, d_k], [n_k, d_v], [n_q, n_k] -> [n_q, d_v]\n",
    "    return softmax(q @ k.T / np.sqrt(q.shape[-1]) + mask) @ v"
   ]
  },
  {
   "cell_type": "code",
   "execution_count": 75,
   "id": "8c61d06c",
   "metadata": {},
   "outputs": [],
   "source": [
    "def attention(q, k, v, mask):  # [n_q, d_k], [n_k, d_k], [n_k, d_v], [n_q, n_k] -> [n_q, d_v]\n",
    "    return softmax(q @ k.T / np.sqrt(q.shape[-1]) + mask) @ v\n",
    "\n",
    "def casual_self_attention(x, c_attn, c_proj): # [n_seq, n_embd] -> [n_seq, n_embd]\n",
    "    # qkv projections\n",
    "    x = linear(x, **c_attn) # [n_seq, n_embd] -> [n_seq, 3*n_embd]\n",
    "\n",
    "    # split into qkv\n",
    "    q, k, v = qkv = np.split(x, 3, axis=-1) # [n_seq, 3*n_embd] -> 3 of [n_seq, n_embd]\n",
    "\n",
    "    # casual mask to hide future inputs from being attended to\n",
    "    casual_mask = (1 - np.tri(x.shape[0])) * -1e10  # [n_seq, n_seq]\n",
    "\n",
    "    # perform casual self attention\n",
    "    x = attention(q, k, v, casual_mask) # [n_seq, n_embd] -> [n_seq, n_embd]\n",
    "\n",
    "    # out projection\n",
    "    x = linear(x, **c_proj) # [n_seq, n_embd] @ [n_embd, n_embd] = [n_seq, n_embd]\n",
    "\n",
    "    return x"
   ]
  },
  {
   "cell_type": "code",
   "execution_count": 76,
   "id": "fae11822",
   "metadata": {},
   "outputs": [],
   "source": [
    "def mha(x, c_attn, c_proj, n_head):  # [n_seq, n_embd] -> [n_seq, n_embd]\n",
    "    # qkv projection\n",
    "    x = linear(x, **c_attn)  # [n_seq, n_embd] -> [n_seq, 3*n_embd]\n",
    "\n",
    "    # split into qkv\n",
    "    qkv = np.split(x, 3, axis=-1)  # [n_seq, 3*n_embd] -> [3, n_seq, n_embd]\n",
    "\n",
    "    # split into heads\n",
    "    qkv_heads = list(map(lambda x: np.split(x, n_head, axis=-1), qkv))  # [3, n_seq, n_embd] -> [n_head, 3, n_seq, n_embd/n_head]\n",
    "\n",
    "    # casual mask to hide future inputs from being attended to\n",
    "    casual_mask = (1 - np.tri(x.shape[0])) * -1e10  # [n_seq, n_seq]\n",
    "\n",
    "    # perform attention over each head\n",
    "    out_heads = [attention(q, k, v, casual_mask) for q, k, v in zip(*qkv_heads)]  # [n_head, 3, n_seq, n_embd/n_head] -> [n_head, n_seq, n_embd/n_head]\n",
    "\n",
    "    # merge heads\n",
    "    x = np.hstack(out_heads)  # [n_head, n_seq, n_embd/n_head] -> [n_seq, n_embd]\n",
    "\n",
    "    # out projection\n",
    "    x = linear(x, **c_proj)  # [n_seq, n_embd] -> [n_seq, n_embd]\n",
    "\n",
    "    return x"
   ]
  },
  {
   "cell_type": "code",
   "execution_count": 77,
   "id": "35d73847",
   "metadata": {},
   "outputs": [
    {
     "ename": "NameError",
     "evalue": "name 'qkv' is not defined",
     "output_type": "error",
     "traceback": [
      "\u001b[0;31m---------------------------------------------------------------------------\u001b[0m",
      "\u001b[0;31mNameError\u001b[0m                                 Traceback (most recent call last)",
      "Cell \u001b[0;32mIn[77], line 1\u001b[0m\n\u001b[0;32m----> 1\u001b[0m qkv_heads \u001b[38;5;241m=\u001b[39m \u001b[38;5;28mlist\u001b[39m(\u001b[38;5;28mmap\u001b[39m(\u001b[38;5;28;01mlambda\u001b[39;00m x: np\u001b[38;5;241m.\u001b[39msplit(x, n_head, axis\u001b[38;5;241m=\u001b[39m\u001b[38;5;241m-\u001b[39m\u001b[38;5;241m1\u001b[39m), \u001b[43mqkv\u001b[49m))  \u001b[38;5;66;03m# [3, n_seq, n_embd] -> [n_head, 3, n_seq, n_embd/n_head]\u001b[39;00m\n",
      "\u001b[0;31mNameError\u001b[0m: name 'qkv' is not defined"
     ]
    }
   ],
   "source": [
    "qkv_heads = list(map(lambda x: np.split(x, n_head, axis=-1), qkv))  # [3, n_seq, n_embd] -> [n_head, 3, n_seq, n_embd/n_head]\n"
   ]
  },
  {
   "cell_type": "code",
   "execution_count": 107,
   "id": "d29e01fa",
   "metadata": {},
   "outputs": [
    {
     "name": "stderr",
     "output_type": "stream",
     "text": [
      "\u001b[1m\u001b[31mERROR: \u001b[0mThe function received no value for the required argument: prompt\n",
      "Usage: ipykernel_launcher.py PROMPT <flags>\n",
      "  optional flags:        --n_tokens_to_generate | --model_size | --models_dir\n",
      "\n",
      "For detailed information on this command, run:\n",
      "  ipykernel_launcher.py --help\n"
     ]
    },
    {
     "ename": "FireExit",
     "evalue": "2",
     "output_type": "error",
     "traceback": [
      "An exception has occurred, use %tb to see the full traceback.\n",
      "\u001b[0;31mFireExit\u001b[0m\u001b[0;31m:\u001b[0m 2\n"
     ]
    },
    {
     "name": "stderr",
     "output_type": "stream",
     "text": [
      "/usr/local/lib/python3.9/site-packages/IPython/core/interactiveshell.py:3450: UserWarning: To exit: use 'exit', 'quit', or Ctrl-D.\n",
      "  warn(\"To exit: use 'exit', 'quit', or Ctrl-D.\", stacklevel=1)\n"
     ]
    }
   ],
   "source": [
    "import numpy as np\n",
    "\n",
    "\n",
    "def gelu(x):\n",
    "    return 0.5 * x * (1 + np.tanh(np.sqrt(2 / np.pi) * (x + 0.044715 * x**3)))\n",
    "\n",
    "\n",
    "def softmax(x):\n",
    "    exp_x = np.exp(x - np.max(x, axis=-1, keepdims=True))\n",
    "    return exp_x / np.sum(exp_x, axis=-1, keepdims=True)\n",
    "\n",
    "\n",
    "def layer_norm(x, g, b, eps: float = 1e-5):\n",
    "    mean = np.mean(x, axis=-1, keepdims=True)\n",
    "    variance = np.var(x, axis=-1, keepdims=True)\n",
    "    x = (x - mean) / np.sqrt(variance + eps)  # normalize x to have mean=0 and var=1 over last axis\n",
    "    return g * x + b  # scale and offset with gamma/beta params\n",
    "\n",
    "\n",
    "def linear(x, w, b):  # [m, in], [in, out], [out] -> [m, out]\n",
    "    return x @ w + b\n",
    "\n",
    "\n",
    "def ffn(x, c_fc, c_proj):  # [n_seq, n_embd] -> [n_seq, n_embd]\n",
    "    # project up\n",
    "    a = gelu(linear(x, **c_fc))  # [n_seq, n_embd] -> [n_seq, 4*n_embd]\n",
    "\n",
    "    # project back down\n",
    "    x = linear(a, **c_proj)  # [n_seq, 4*n_embd] -> [n_seq, n_embd]\n",
    "\n",
    "    return x\n",
    "\n",
    "\n",
    "def attention(q, k, v, mask):  # [n_q, d_k], [n_k, d_k], [n_k, d_v], [n_q, n_k] -> [n_q, d_v]\n",
    "    return softmax(q @ k.T / np.sqrt(q.shape[-1]) + mask) @ v\n",
    "\n",
    "\n",
    "def mha(x, c_attn, c_proj, n_head):  # [n_seq, n_embd] -> [n_seq, n_embd]\n",
    "    # qkv projection\n",
    "    x = linear(x, **c_attn)  # [n_seq, n_embd] -> [n_seq, 3*n_embd]\n",
    "\n",
    "    # split into qkv\n",
    "    qkv = np.split(x, 3, axis=-1)  # [n_seq, 3*n_embd] -> [3, n_seq, n_embd]\n",
    "\n",
    "    # split into heads\n",
    "    qkv_heads = list(map(lambda x: np.split(x, n_head, axis=-1), qkv))  # [3, n_seq, n_embd] -> [n_head, 3, n_seq, n_embd/n_head]\n",
    "\n",
    "    # causal mask to hide future inputs from being attended to\n",
    "    causal_mask = (1 - np.tri(x.shape[0])) * -1e10  # [n_seq, n_seq]\n",
    "\n",
    "    # perform attention over each head\n",
    "    out_heads = [attention(q, k, v, causal_mask) for q, k, v in zip(*qkv_heads)]  # [n_head, 3, n_seq, n_embd/n_head] -> [n_head, n_seq, n_embd/n_head]\n",
    "\n",
    "    # merge heads\n",
    "    x = np.hstack(out_heads)  # [n_head, n_seq, n_embd/n_head] -> [n_seq, n_embd]\n",
    "\n",
    "    # out projection\n",
    "    x = linear(x, **c_proj)  # [n_seq, n_embd] -> [n_seq, n_embd]\n",
    "\n",
    "    return x\n",
    "\n",
    "\n",
    "def transformer_block(x, mlp, attn, ln_1, ln_2, n_head):  # [n_seq, n_embd] -> [n_seq, n_embd]\n",
    "    # multi-head causal self attention\n",
    "    x = x + mha(layer_norm(x, **ln_1), **attn, n_head=n_head)  # [n_seq, n_embd] -> [n_seq, n_embd]\n",
    "\n",
    "    # position-wise feed forward network\n",
    "    x = x + ffn(layer_norm(x, **ln_2), **mlp)  # [n_seq, n_embd] -> [n_seq, n_embd]\n",
    "\n",
    "    return x\n",
    "\n",
    "\n",
    "def gpt2(inputs, wte, wpe, blocks, ln_f, n_head):  # [n_seq] -> [n_seq, n_vocab]\n",
    "    # token + positional embeddings\n",
    "    x = wte[inputs] + wpe[range(len(inputs))]  # [n_seq] -> [n_seq, n_embd]\n",
    "\n",
    "    # forward pass through n_layer transformer blocks\n",
    "    for block in blocks:\n",
    "        x = transformer_block(x, **block, n_head=n_head)  # [n_seq, n_embd] -> [n_seq, n_embd]\n",
    "\n",
    "    # projection to vocab\n",
    "    x = layer_norm(x, **ln_f)  # [n_seq, n_embd] -> [n_seq, n_embd]\n",
    "    return x @ wte.T  # [n_seq, n_embd] -> [n_seq, n_vocab]\n",
    "\n",
    "\n",
    "def generate(inputs, params, n_head, n_tokens_to_generate):\n",
    "    from tqdm import tqdm\n",
    "\n",
    "    for _ in tqdm(range(n_tokens_to_generate), \"generating\"):  # auto-regressive decode loop\n",
    "        logits = gpt2(inputs, **params, n_head=n_head)  # model forward pass\n",
    "        next_id = np.argmax(logits[-1])  # greedy sampling\n",
    "        inputs = np.append(inputs, [next_id])  # append prediction to input\n",
    "\n",
    "    return list(inputs[len(inputs) - n_tokens_to_generate :])  # only return generated ids\n",
    "\n",
    "\n",
    "def main(prompt: str, n_tokens_to_generate: int = 40, model_size: str = \"124M\", models_dir: str = \"models\"):\n",
    "    from utils import load_encoder_hparams_and_params\n",
    "\n",
    "    # load encoder, hparams, and params from the released open-ai gpt-2 files\n",
    "    encoder, hparams, params = load_encoder_hparams_and_params(model_size, models_dir)\n",
    "\n",
    "    # encode the input string using the BPE tokenizer\n",
    "    input_ids = encoder.encode(prompt)\n",
    "\n",
    "    # make sure we are not surpassing the max sequence length of our model\n",
    "    assert len(input_ids) + n_tokens_to_generate < hparams[\"n_ctx\"]\n",
    "\n",
    "    # generate output ids\n",
    "    output_ids = generate(input_ids, params, hparams[\"n_head\"], n_tokens_to_generate)\n",
    "\n",
    "    # decode the ids back into a string\n",
    "    output_text = encoder.decode(output_ids)\n",
    "\n",
    "    return output_text\n",
    "\n",
    "\n",
    "if __name__ == \"__main__\":\n",
    "    import fire\n",
    "\n",
    "    fire.Fire(main)"
   ]
  },
  {
   "cell_type": "code",
   "execution_count": 108,
   "id": "24b3b24f",
   "metadata": {},
   "outputs": [
    {
     "ename": "SyntaxError",
     "evalue": "invalid syntax (351612867.py, line 1)",
     "output_type": "error",
     "traceback": [
      "\u001b[0;36m  Cell \u001b[0;32mIn[108], line 1\u001b[0;36m\u001b[0m\n\u001b[0;31m    python gpt2.py \\\u001b[0m\n\u001b[0m           ^\u001b[0m\n\u001b[0;31mSyntaxError\u001b[0m\u001b[0;31m:\u001b[0m invalid syntax\n"
     ]
    }
   ],
   "source": [
    "python gpt2.py \\\n",
    "    \"Alan Turing theorized that computers would one day become\" \\\n",
    "    --n_tokens_to_generate 8"
   ]
  },
  {
   "cell_type": "code",
   "execution_count": 109,
   "id": "fcfc15e0",
   "metadata": {},
   "outputs": [
    {
     "name": "stdout",
     "output_type": "stream",
     "text": [
      "README.md        encoder.py       \u001b[34mmodels\u001b[m\u001b[m           utils.py\r\n",
      "Untitled.ipynb   gpt2.py          requirements.txt\r\n",
      "\u001b[34m__pycache__\u001b[m\u001b[m      gpt2_pico.py     untitled\r\n"
     ]
    }
   ],
   "source": [
    "!LS"
   ]
  },
  {
   "cell_type": "code",
   "execution_count": 111,
   "id": "d21a209f",
   "metadata": {},
   "outputs": [],
   "source": [
    "!python gpt2.py \"Alan Turing theorized that computers would one day become\" --n_tokens_to_generate 8"
   ]
  },
  {
   "cell_type": "code",
   "execution_count": null,
   "id": "af31822d",
   "metadata": {},
   "outputs": [],
   "source": []
  }
 ],
 "metadata": {
  "kernelspec": {
   "display_name": "Python 3 (ipykernel)",
   "language": "python",
   "name": "python3"
  },
  "language_info": {
   "codemirror_mode": {
    "name": "ipython",
    "version": 3
   },
   "file_extension": ".py",
   "mimetype": "text/x-python",
   "name": "python",
   "nbconvert_exporter": "python",
   "pygments_lexer": "ipython3",
   "version": "3.9.16"
  }
 },
 "nbformat": 4,
 "nbformat_minor": 5
}
